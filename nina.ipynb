{
 "cells": [
  {
   "cell_type": "markdown",
   "id": "b4aca0db",
   "metadata": {},
   "source": [
    "# Hemtentamen TE20D 10 mars\n",
    "\n",
    "Detta är en individuell uppgift. Exakta svar kommer bedömas som ett grupparbete och ge max. E på tentamen. Ni ska inte samarbeta.\n",
    "\n",
    "Ni får en lektion för att arbeta på uppgiften. Senast inlämning är **torsdag 10 mars kl 23.59**. Inga sena inlämningar accepteras. Det blir ett skriftligt omprovs tillfälle på resurstid tillsammans med övriga Prog 1 kurser.\n",
    "\n",
    "Lycka till!! \n",
    "\n",
    "Starta med att köra cellen nedan sedan är det bara att gå igenom frågorna!"
   ]
  },
  {
   "cell_type": "code",
   "execution_count": null,
   "id": "9c0c6d3d",
   "metadata": {},
   "outputs": [],
   "source": [
    "for i in \"LYCKA TILL!\":\n",
    "    print (i, end= \"\")\n",
    "    \n",
    "print (\"\\n\\n ✌(ಠ‿ಠ)✌\")"
   ]
  },
  {
   "cell_type": "markdown",
   "id": "16625ed0",
   "metadata": {},
   "source": [
    "## Del 1: Scope"
   ]
  },
  {
   "cell_type": "markdown",
   "id": "9bdceee9",
   "metadata": {},
   "source": [
    "### (E) Fråga 1\n",
    "\n",
    "Vad innebär \"Scope\", använd LEGB regeln för att förklara. Har du använt dig av det i din utvärdering använd gärna det som exempel."
   ]
  },
  {
   "cell_type": "markdown",
   "id": "a347c761",
   "metadata": {},
   "source": [
    "LEGB står för:\n",
    "- Local, variabler som är definerade inom en funktion; i spelet hade jag flera local varibler, ett exempel är door\n",
    "- Enclosing, varibler som endast finns i en funktion i en funktion\n",
    "- Global, varibler som är antingen definerat \"längst upp\" eller som använder global keywords dvs global cat. Dessa kan användas både i och utanför funktioner; i spelet använde jag global vid namn declering och catde\n",
    "- Built-in, varibler som är finns sen innan från python\n",
    "\n",
    "Detta är även ordningen python tittar efter variabler när den ska använda den.\n",
    "________________________________________________________________________________________\n",
    "Exempel från spelet:\n",
    "Local\n"
   ]
  },
  {
   "cell_type": "code",
   "execution_count": null,
   "id": "735d5b0f",
   "metadata": {},
   "outputs": [],
   "source": [
    "def foodop():\n",
    "    food=input(\"\\nWhat do you wish to eat? [egg/sandwich/porridge/flakes]\\n>\")"
   ]
  },
  {
   "cell_type": "markdown",
   "id": "d2f620e5",
   "metadata": {},
   "source": [
    "Enclosing:"
   ]
  },
  {
   "cell_type": "code",
   "execution_count": null,
   "id": "ffed4aac",
   "metadata": {},
   "outputs": [],
   "source": [
    "def room3():\n",
    "\t#kod....\n",
    "\t\tdef sweetfight():\n",
    "\t\t\t#kod...\n",
    "\t\t\tbosshp=300\n",
    "\t\t\tmyhp=100"
   ]
  },
  {
   "cell_type": "markdown",
   "id": "84220ff2",
   "metadata": {},
   "source": [
    "Global"
   ]
  },
  {
   "cell_type": "code",
   "execution_count": null,
   "id": "59d16614",
   "metadata": {},
   "outputs": [],
   "source": [
    "global name"
   ]
  },
  {
   "cell_type": "markdown",
   "id": "38b7f729",
   "metadata": {},
   "source": [
    "Built-in"
   ]
  },
  {
   "cell_type": "code",
   "execution_count": null,
   "id": "562127fc",
   "metadata": {},
   "outputs": [],
   "source": [
    "True"
   ]
  },
  {
   "cell_type": "markdown",
   "id": "98d624d2",
   "metadata": {},
   "source": [
    "## Del 2: Felhantering\n",
    "\n"
   ]
  },
  {
   "cell_type": "markdown",
   "id": "a09e1753",
   "metadata": {},
   "source": [
    "### (E) Fråga 2\n",
    "\n",
    "Det finns tre typer av fel: Syntaxfel, exekveringsfel och logiska fel. Beskriv skillnaden mellan dessa typer av fel. Ge exempel på **syntaxfel** och **logiska** fel gärna utifrån spelet du gjort.\n"
   ]
  },
  {
   "cell_type": "markdown",
   "id": "ff1a6d92",
   "metadata": {},
   "source": [
    "Syntaxfel\n",
    "Är fel som sker när python ska läsa av koden, dvs man har inte skrivit enligt \"grammatiken\" i python. Man får ofast tillbaka \"SyntaxError: invalid\" eller \"SyntaxError: invalid token\". \t\t\n",
    "\n",
    "Exekveringsfel\n",
    "Fel som sker när man executar koden. \n",
    "\n",
    "Logiska fel\n",
    "Koden kör som den är skriven, men den gör inte det man hade tänkt att den skulle göra."
   ]
  },
  {
   "cell_type": "code",
   "execution_count": null,
   "id": "012c8af9",
   "metadata": {},
   "outputs": [],
   "source": [
    "#Syntaxfel, saknar parantes\n",
    "def hello:\n",
    "\tprint(\"Hello world\")\n",
    "\n",
    "hello()\n",
    "\n",
    "#Logiska fel, använt fel varibel namn\n",
    "area=5*5\n",
    "print(are)"
   ]
  },
  {
   "cell_type": "markdown",
   "id": "1abd5560",
   "metadata": {},
   "source": [
    "### (C-A) Fråga 3\n",
    "\n",
    "Ge ett exempel på hur du kan använda try/except vid felhantering. Använd gärna din kod från spelet som exempel."
   ]
  },
  {
   "cell_type": "code",
   "execution_count": null,
   "id": "f2c97801",
   "metadata": {},
   "outputs": [],
   "source": [
    "while True:\n",
    "    try:\n",
    "        print('\\nSkriv in nettointäkter.')\n",
    "\n",
    "        #förram = förra månaden\n",
    "        förram = float(input('Förra månaden:\\n>'))\n",
    "        #dennam = denna månaden\n",
    "        dennam = float(input('Denna månaden:\\n>'))\n",
    "\n",
    "        # räknar ut skillnaden i procent\n",
    "        skillnad = (dennam - förram) * 100 / förram\n",
    "\n",
    "        # visa resultat ifall inmatningen är korrekt\n",
    "        if skillnad > 0: #ifall skillnaden är större än noll, så är det en ökning\n",
    "            resultat = \"Försäljningen ökades med {}%\\n\".format(abs(skillnad))\n",
    "        else:\n",
    "            resultat = \"Försäljningen minskades med {}%\\n\".format(abs(skillnad)) #annars är det en minskning\n",
    "\n",
    "        print(resultat)\n",
    "    #ifall man får valueerror, dvs skriver in ngt som inte är en float så säger den att man ska skriva in ett nummer\n",
    "    except ValueError:\n",
    "        print(\"Var vänligen och skriv in ett nummer.\")\n",
    "    #ifall man skriver in 0 som förra månaden så får man att man inte kan dela med noll\n",
    "    except ZeroDivisionError:\n",
    "        print(\"Den förra månadens netto kan inte vara noll.\")\n",
    "    #skriver ut error som en exception\n",
    "    except Exception as error:\n",
    "        print(error)\n",
    "    \n",
    "    #enkelt sätt att kunna avsluta\n",
    "    svar=input(\"\\nVill du avsluta? [ja/nej]\\n>\")\n",
    "    svar=svar.lower()\n",
    "    if svar == \"ja\":\n",
    "        print(\"Tack för att du använde tjänsten.\")\n",
    "        break"
   ]
  },
  {
   "cell_type": "markdown",
   "id": "6aea3bcd",
   "metadata": {},
   "source": [
    "### (C-A) Fråga 4\n",
    "\n",
    "Ge minst ett exempel på hur du kan använda assert vid felhantering. Använd gärna din kod från spelet som exempel."
   ]
  },
  {
   "cell_type": "code",
   "execution_count": null,
   "id": "448c476f",
   "metadata": {},
   "outputs": [],
   "source": [
    "klassmerit=[]\n",
    "print(\"Detta är ett program som räknar ut medelmeriten.\\nSkriv in meriten för varje elev separat. Skriv '30' ifall alla elevers merit är inskrivna.\")\n",
    "\n",
    "#en loop som lägger in merit i listan om de uppfylller vissa krav\n",
    "while True:\n",
    "    merit = float(input())\n",
    "    #meriten kan inte vara högre än 22.6, och den kan inte vara 30 eftersom det slutar loopen    \n",
    "    if merit >= 22.6 and merit != 30:\n",
    "        print(\"Meriten kan inte vara högre än 22.5 i merit.\")\n",
    "    #lägger till ifall meriten är mindre/lika med 22.5\n",
    "    if merit <= 22.5:\n",
    "        klassmerit.append(merit)\n",
    "    if merit < 0:\n",
    "        print(\"Meriten kan inte vara under 0\")\n",
    "    #avslutar loop ifall input = 30\n",
    "    if merit == 30: \n",
    "        break\n",
    "\n",
    "print(\"Klassens merit är\",klassmerit)\n",
    "\n",
    "#funktion som råknar ut medel meriten, genom att ta summan av meriten och sedan delar på antal\n",
    "def avg(klassmerit):\n",
    "    #ifall längden på listan är 0 så skriver den ut ->\n",
    "    assert len(klassmerit) != 0, \"Finns inga merit inskrivna.\"\n",
    "    #returnar värdet som klassmerit\n",
    "    return sum(klassmerit)/len(klassmerit)\n",
    "\n",
    "#skriver ut medelmeriten med max 2 decimaler\n",
    "print(\"Medelmeriten för klassen är: {:.2f}\".format(avg(klassmerit)))\n"
   ]
  },
  {
   "cell_type": "markdown",
   "id": "d1c07bd8",
   "metadata": {},
   "source": [
    "## Del 3: Filhantering"
   ]
  },
  {
   "cell_type": "markdown",
   "id": "9ef74e37",
   "metadata": {},
   "source": [
    "### (E) Fråga 5\n",
    "\n",
    "- a) Beskriv vad filhantering innebär, när kan man använda det?\n",
    "- b) Vad innebär r, w, a, w+, r+ och a+?\n",
    "- c) Ge ett exempel på hur du kan skriva in \"hej\" till en textfil som heter hej.txt med \"with open\" satsen."
   ]
  },
  {
   "cell_type": "markdown",
   "id": "c2c8524b",
   "metadata": {},
   "source": [
    "a)\n",
    "\n",
    "Filhantering är ett sätt att hantera filer, dvs ex öppna, skriva etc filer. Man kan exempelvis att spara data som man får in från sin kod.\n",
    "\n",
    "b)\n",
    "\n",
    "r= Öppnar filen för att läsa, längst upp\n",
    "\n",
    "w= Resetar filen till längen 0 eller skapar en fil för att skriva.\n",
    "\n",
    "a= Öppnar filen för att läsa, längst ner\n",
    "\n",
    "r+= Öppnar för att läsa och skriva, skrivs in längst upp i filen\n",
    "\n",
    "w+= Öppnar för att läsa och skriva, om inte filen finns så skapas den, skrivs längst upp i filen\n",
    "\n",
    "a+= Öppnas för att läsa, skapas om den inte finns. Det man skriver börjar längst ner i filen."
   ]
  },
  {
   "cell_type": "code",
   "execution_count": null,
   "id": "c181c836",
   "metadata": {},
   "outputs": [],
   "source": [
    "#öppnar hej.txt med \"kommandot\" w och sedan skriver hej\n",
    "with open('hej.txt', 'w') as f:\n",
    "    f.write('hej')"
   ]
  },
  {
   "cell_type": "markdown",
   "id": "c29bd3f3",
   "metadata": {},
   "source": [
    "### (A) Fråga 6: \"Ge koden din egen prägel\"\n",
    "\n",
    "Utgå från koden nedan som är en typ av alarmklocka. Gör om koden så att det skapas någon form av logg över alla som använder klockan (ska sparas till en fil). Istället för texten \"Tiden är ute\" så ska du läsa in en textrad från en fil eller kanske spela ett ljudklipp som finns i en fil. Bonus om du har flera olika textrader eller ljudfiler där det slumpas vilken som visas/spelas.\n",
    "\n",
    "Detta är ett förslag till förändring, självklart får du komma på en egen ide till hur du vill ändra koden! Men se till att de finns att du skriver in till en fil samt läser från en fil.\n",
    "\n"
   ]
  },
  {
   "cell_type": "code",
   "execution_count": null,
   "id": "7ea28ef3",
   "metadata": {},
   "outputs": [],
   "source": [
    "# importerar time modulen\n",
    "import time\n",
    "  \n",
    "# definerar funktion alarmklocka\n",
    "def alarmklocka (t):\n",
    "    \n",
    "    while t:\n",
    "        mins, sek = divmod(t, 60)\n",
    "        timer = '{:02d}:{:02d}'.format(mins, sek)\n",
    "        print(timer, end=\"\\r\")\n",
    "        time.sleep(1)\n",
    "        t -= 1\n",
    "      \n",
    "    print('Tiden är ute')\n",
    "  \n",
    "  \n",
    "# användare lägger in tid i sekunder\n",
    "t = input(\"Enter the time in seconds: \")\n",
    "  \n",
    "# kallar på funktion alarmklocka\n",
    "alarmklocka (int(t))"
   ]
  },
  {
   "cell_type": "code",
   "execution_count": null,
   "id": "04468777",
   "metadata": {},
   "outputs": [],
   "source": [
    "# importerar time modulen, playsound (behövdes installeras med pip), random och os\n",
    "import time\n",
    "from playsound import playsound\n",
    "import random as rand\n",
    "import os\n",
    "\n",
    "#hittade denna delen från: https://stackoverflow.com/questions/60250171/how-to-play-random-mp3-files-in-pygame, visste inte hur man skulle göra en path\n",
    "path = \"music/\"\n",
    "mp3file = [os.path.join(path, f) for f in os.listdir(path) if f.endswith('.mp3')]\n",
    "\n",
    "# definerar funktion alarmklocka\n",
    "def alarmklocka (t):\n",
    "\n",
    "    while t:\n",
    "        mins, sek = divmod(t, 60)\n",
    "        timer = '{:02d}:{:02d}'.format(mins, sek)\n",
    "        print(timer, end=\"\\r\")\n",
    "        time.sleep(1)\n",
    "        t -= 1\n",
    "    \n",
    "    print(\"Time is out, now vibe!\")\n",
    "    #tar en random fil med hjälp av rand choice från random filerna som finns i mapen, sendan spelar den upp den\n",
    "    randomfile = rand.choice(mp3file)\n",
    "    playsound(randomfile)\n",
    "    #öppnar filen och läser den och delar upp den i separata rader\n",
    "    line = open('poem.txt').read().splitlines()\n",
    "    #väljer en random rad och printar den\n",
    "    pickedline =rand.choice(line)\n",
    "    print(pickedline)\n",
    "\n",
    "# användare lägger in tid i sekunder\n",
    "t = input(\"Enter the time in seconds:\\n>\")\n",
    "# öppnar filen som append och läs \"mode\"\n",
    "with open(\"time.txt\", \"a+\") as file:\n",
    "    #börjar från starten av filen\n",
    "    file.seek(0)\n",
    "    #ifall det finns ngt i början av filen så använder den \\n\n",
    "    data=file.read(100)\n",
    "    if len(data) > 0:\n",
    "        file.write(\"\\n\")\n",
    "    #lägger till text i slutet av filen\n",
    "    file.write(\"Time: {} \\(. .)/\".format(t))\n",
    "\n",
    "# kallar på funktion alarmklocka\n",
    "alarmklocka (int(t))"
   ]
  },
  {
   "cell_type": "markdown",
   "id": "3627ba22",
   "metadata": {},
   "source": [
    "## Del 4: Lämna in!\n",
    "\n",
    "Lämna in filen i classroom. Spara ned filen enligt mall **dittnamn.ipynb** (ipynb blir automatisk filändelse)."
   ]
  },
  {
   "cell_type": "code",
   "execution_count": null,
   "id": "9f733c41",
   "metadata": {},
   "outputs": [],
   "source": []
  }
 ],
 "metadata": {
  "kernelspec": {
   "display_name": "Python 3",
   "language": "python",
   "name": "python3"
  },
  "language_info": {
   "codemirror_mode": {
    "name": "ipython",
    "version": 3
   },
   "file_extension": ".py",
   "mimetype": "text/x-python",
   "name": "python",
   "nbconvert_exporter": "python",
   "pygments_lexer": "ipython3",
   "version": "3.9.6"
  }
 },
 "nbformat": 4,
 "nbformat_minor": 5
}
